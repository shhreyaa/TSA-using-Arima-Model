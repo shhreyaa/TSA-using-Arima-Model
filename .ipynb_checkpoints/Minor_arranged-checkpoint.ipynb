{
 "cells": [
  {
   "cell_type": "code",
   "execution_count": 1,
   "metadata": {},
   "outputs": [
    {
     "ename": "ModuleNotFoundError",
     "evalue": "No module named 'matplotlib'",
     "output_type": "error",
     "traceback": [
      "\u001b[0;31m---------------------------------------------------------------------------\u001b[0m",
      "\u001b[0;31mModuleNotFoundError\u001b[0m                       Traceback (most recent call last)",
      "\u001b[0;32m<ipython-input-1-20f0a3a37704>\u001b[0m in \u001b[0;36m<module>\u001b[0;34m\u001b[0m\n\u001b[1;32m      3\u001b[0m \u001b[0;32mimport\u001b[0m \u001b[0mitertools\u001b[0m\u001b[0;34m\u001b[0m\u001b[0;34m\u001b[0m\u001b[0m\n\u001b[1;32m      4\u001b[0m \u001b[0;32mimport\u001b[0m \u001b[0mnumpy\u001b[0m \u001b[0;32mas\u001b[0m \u001b[0mnp\u001b[0m\u001b[0;34m\u001b[0m\u001b[0;34m\u001b[0m\u001b[0m\n\u001b[0;32m----> 5\u001b[0;31m \u001b[0;32mimport\u001b[0m \u001b[0mmatplotlib\u001b[0m\u001b[0;34m.\u001b[0m\u001b[0mpyplot\u001b[0m \u001b[0;32mas\u001b[0m \u001b[0mplt\u001b[0m\u001b[0;34m\u001b[0m\u001b[0;34m\u001b[0m\u001b[0m\n\u001b[0m\u001b[1;32m      6\u001b[0m \u001b[0mwarnings\u001b[0m\u001b[0;34m.\u001b[0m\u001b[0mfilterwarnings\u001b[0m\u001b[0;34m(\u001b[0m\u001b[0;34m\"ignore\"\u001b[0m\u001b[0;34m)\u001b[0m\u001b[0;34m\u001b[0m\u001b[0;34m\u001b[0m\u001b[0m\n\u001b[1;32m      7\u001b[0m \u001b[0mplt\u001b[0m\u001b[0;34m.\u001b[0m\u001b[0mstyle\u001b[0m\u001b[0;34m.\u001b[0m\u001b[0muse\u001b[0m\u001b[0;34m(\u001b[0m\u001b[0;34m'fivethirtyeight'\u001b[0m\u001b[0;34m)\u001b[0m\u001b[0;34m\u001b[0m\u001b[0;34m\u001b[0m\u001b[0m\n",
      "\u001b[0;31mModuleNotFoundError\u001b[0m: No module named 'matplotlib'"
     ]
    }
   ],
   "source": [
    "# importing\n",
    "import warnings\n",
    "import itertools\n",
    "import numpy as np\n",
    "import matplotlib.pyplot as plt\n",
    "warnings.filterwarnings(\"ignore\")\n",
    "plt.style.use('fivethirtyeight')\n",
    "import pandas as pd\n",
    "import statsmodels.api as sm\n",
    "import matplotlib\n",
    "matplotlib.rcParams['axes.labelsize'] = 14\n",
    "matplotlib.rcParams['xtick.labelsize'] = 12\n",
    "matplotlib.rcParams['ytick.labelsize'] = 12\n",
    "matplotlib.rcParams['text.color'] = 'k'"
   ]
  },
  {
   "cell_type": "code",
   "execution_count": null,
   "metadata": {},
   "outputs": [],
   "source": [
    "\n",
    "\n",
    "df = pd.read_excel(\"Superstore.xls\")\n",
    "df.head(10)\n",
    "df.info()\n",
    "df1= df"
   ]
  },
  {
   "cell_type": "code",
   "execution_count": null,
   "metadata": {},
   "outputs": [],
   "source": [
    "#sales and profit of total sales\n",
    "df1 = pd.read_excel(\"Superstore.xls\")\n",
    "cols = ['Row ID', 'Order ID', 'Ship Date', 'Ship Mode', 'Customer ID', 'Customer Name', 'Segment','Category', 'Country', 'City', 'State', 'Postal Code', 'Region', 'Product ID', 'Category', 'Sub-Category', 'Product Name', 'Quantity', 'Discount']\n",
    "df1.drop(cols, axis=1, inplace=True)\n",
    "df1 = df1.sort_values('Order Date')\n",
    "df1.isnull().sum()\n",
    "df1 = df1.set_index('Order Date')\n",
    "y1 = df1['Sales'].resample('MS').sum()\n",
    "y2 = df1['Profit'].resample('MS').sum()\n",
    "y1.plot(figsize=(15, 6))\n",
    "y2.plot(figsize=(15, 6))\n",
    "plt.show()\n"
   ]
  },
  {
   "cell_type": "code",
   "execution_count": null,
   "metadata": {},
   "outputs": [],
   "source": [
    "def profit(prof):\n",
    "      x= prof\n",
    "      prof = df.loc[df['Category'] == \"{}\".format(prof)]\n",
    "    \n",
    "    \n",
    "      cols = ['Row ID','Sales', 'Order ID', 'Ship Date', 'Ship Mode', 'Customer ID', 'Customer Name', 'Segment', 'Country', 'City', 'State', 'Postal Code', 'Region', 'Product ID', 'Category','Sub-Category', 'Product Name', 'Quantity', 'Discount']\n",
    "      prof.drop(cols, axis=1, inplace=True)\n",
    "      prof = prof.sort_values('Order Date')\n",
    "      prof.isnull().sum()\n",
    "      prof = prof.set_index('Order Date')\n",
    "\n",
    "      y_fur = prof['Profit'].resample('MS').sum()\n",
    "      y_fur.plot(figsize=(15, 6))\n",
    "      plt.plot()\n",
    "      plt.xlabel('Time')\n",
    "      plt.ylabel('Profit in Rs')\n",
    "      plt.legend([\"{}\".format(x)])\n",
    " "
   ]
  },
  {
   "cell_type": "code",
   "execution_count": null,
   "metadata": {},
   "outputs": [],
   "source": [
    "#fix individual legend in everything as of now it shows only office supplies\n",
    "profit('Furniture')\n",
    "\n",
    "profit('Technology')\n",
    "profit('Office Supplies')"
   ]
  },
  {
   "cell_type": "code",
   "execution_count": null,
   "metadata": {},
   "outputs": [],
   "source": [
    "#show sales \n",
    "def sales(sale_category):\n",
    "     x= sale_category\n",
    "     sale_category = df.loc[df['Category'] == \"{}\".format(sale_category)]\n",
    "     cols = ['Row ID', 'Order ID', 'Ship Date', 'Ship Mode', 'Customer ID', 'Customer Name', 'Segment', 'Country', 'City', 'State', 'Postal Code', 'Region', 'Product ID', 'Category', 'Sub-Category', 'Product Name', 'Quantity', 'Discount', 'Profit']\n",
    "     sale_category.drop(cols, axis=1, inplace=True)\n",
    "     sale_category = sale_category.sort_values('Order Date')\n",
    "     sale_category.isnull().sum()\n",
    "     sale_category= sale_category.groupby('Order Date')['Sales'].sum().reset_index()\n",
    "     sale_category = sale_category.set_index('Order Date')\n",
    "     y = sale_category['Sales'].resample('MS').sum()\n",
    "  \n",
    "     y.plot(figsize=(15, 6))\n",
    "     plt.show()\n",
    "     decompose(y)\n",
    "     predict(y)\n",
    "     \n",
    "     \n",
    "    "
   ]
  },
  {
   "cell_type": "code",
   "execution_count": null,
   "metadata": {},
   "outputs": [],
   "source": [
    "def decompose(y):\n",
    "    from pylab import rcParams\n",
    "    rcParams['figure.figsize'] = 18, 8\n",
    "    decomposition = sm.tsa.seasonal_decompose(y, model='additive')\n",
    "    fig = decomposition.plot()\n",
    "    plt.show()"
   ]
  },
  {
   "cell_type": "code",
   "execution_count": null,
   "metadata": {},
   "outputs": [],
   "source": [
    "def predict(y):\n",
    "    #I have no idea this step\n",
    "# Define the p, d and q parameters to take any value between 0 and 2\n",
    "    p = d = q = range(0, 2)\n",
    "\n",
    "# Generate all different combinations of p, q and q triplets\n",
    "    pdq = list(itertools.product(p, d, q))\n",
    "\n",
    "# Generate all different combinations of seasonal p, q and q triplets\n",
    "    seasonal_pdq = [(x[0], x[1], x[2], 12) for x in list(itertools.product(p, d, q))]\n",
    "    mod = sm.tsa.statespace.SARIMAX(y,\n",
    "                                order=(1, 1, 1),\n",
    "                                seasonal_order=(1, 1, 1, 12),\n",
    "                                enforce_stationarity=False,\n",
    "                                enforce_invertibility=False)\n",
    "    warnings.filterwarnings(\"ignore\") # specify to ignore warning messages\n",
    "\n",
    "# #sarima model to find best AIC, lower the AIC better\n",
    "\n",
    "#     for param in pdq:\n",
    "#         for param_seasonal in seasonal_pdq:\n",
    "#             try:\n",
    "#                 mod = sm.tsa.statespace.SARIMAX(y,\n",
    "#                                                 order=param,\n",
    "#                                                 seasonal_order=param_seasonal,\n",
    "#                                                 enforce_stationarity=False,\n",
    "#                                                 enforce_invertibility=False)\n",
    "\n",
    "#                 results = mod.fit()\n",
    "\n",
    "#                 print('ARIMA{}x{}12 - AIC:{}'.format(param, param_seasonal, results.aic))\n",
    "#             except:\n",
    "#                 continue\n",
    "    mod = sm.tsa.statespace.SARIMAX(y,\n",
    "                                    order=(1, 1, 1),\n",
    "                                    seasonal_order=(1, 1, 1, 12),\n",
    "                                    enforce_stationarity=False,\n",
    "                                    enforce_invertibility=False)\n",
    "    results = mod.fit()\n",
    "    print(results.summary().tables[1])\n",
    "    pred = results.get_prediction(start=pd.to_datetime('2017-01-01'), dynamic=False)\n",
    "    pred_ci = pred.conf_int()\n",
    "    # for the graph\n",
    "    ax = y['2014':].plot(label='observed')\n",
    "    pred.predicted_mean.plot(ax=ax, label='One-step ahead Forecast', alpha=.7, figsize=(14, 7))\n",
    "    ax.fill_between(pred_ci.index,\n",
    "                    pred_ci.iloc[:, 0],\n",
    "                    pred_ci.iloc[:, 1], color='k', alpha=.2)\n",
    "    ax.set_xlabel('Date')\n",
    "    ax.set_ylabel('Furniture Sales')\n",
    "    plt.legend()\n",
    "    plt.show()\n",
    "        #fthere is a gap cause the monthly summary comes at the start of december, find a way to connect red and blue graph\n",
    "    #can fix it with prophet but will not look so good\n",
    "    pred_uc = results.get_forecast(steps=100)\n",
    "    pred_ci = pred_uc.conf_int()\n",
    "    ax = y.plot(label='observed', figsize=(14, 7))\n",
    "    pred_uc.predicted_mean.plot(ax=ax, label='Forecast')\n",
    "    ax.fill_between(pred_ci.index,\n",
    "                    pred_ci.iloc[:, 0],\n",
    "                    pred_ci.iloc[:, 1], color='k', alpha=.25)\n",
    "    ax.set_xlabel('Date')\n",
    "    ax.set_ylabel('Furniture Sales')\n",
    "    plt.legend()\n",
    "    plt.show()\n"
   ]
  },
  {
   "cell_type": "code",
   "execution_count": null,
   "metadata": {},
   "outputs": [],
   "source": [
    "sales(\"Furniture\")\n",
    "\n"
   ]
  },
  {
   "cell_type": "code",
   "execution_count": null,
   "metadata": {},
   "outputs": [],
   "source": [
    "sales(\"Technology\")"
   ]
  },
  {
   "cell_type": "code",
   "execution_count": null,
   "metadata": {},
   "outputs": [],
   "source": [
    "sales(\"Office Supplies\")"
   ]
  },
  {
   "cell_type": "code",
   "execution_count": null,
   "metadata": {},
   "outputs": [],
   "source": [
    "pwd"
   ]
  },
  {
   "cell_type": "code",
   "execution_count": null,
   "metadata": {},
   "outputs": [],
   "source": []
  }
 ],
 "metadata": {
  "kernelspec": {
   "display_name": "Python 3",
   "language": "python",
   "name": "python3"
  },
  "language_info": {
   "codemirror_mode": {
    "name": "ipython",
    "version": 3
   },
   "file_extension": ".py",
   "mimetype": "text/x-python",
   "name": "python",
   "nbconvert_exporter": "python",
   "pygments_lexer": "ipython3",
   "version": "3.8.5"
  }
 },
 "nbformat": 4,
 "nbformat_minor": 4
}
